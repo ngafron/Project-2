{
 "cells": [
  {
   "cell_type": "code",
   "execution_count": 1,
   "metadata": {},
   "outputs": [],
   "source": [
    "import pandas as pd\n",
    "import numpy as np\n",
    "import requests\n",
    "import json\n",
    "import os\n",
    "import time\n",
    "\n",
    "from datetime import datetime as dt\n",
    "from bs4 import BeautifulSoup\n",
    "\n",
    "import sqlalchemy\n",
    "from sqlalchemy.ext.automap import automap_base\n",
    "from sqlalchemy.orm import Session\n",
    "from sqlalchemy import create_engine, inspect, func"
   ]
  },
  {
   "cell_type": "code",
   "execution_count": 2,
   "metadata": {},
   "outputs": [],
   "source": [
    "USERNAME = \"eitanlupovitch\"\n",
    "PASSWORD = \"LUPOterp94\"\n",
    "rds_connection_string = f\"{USERNAME}:{PASSWORD}@localhost:5432/Happiness\"\n",
    "engine = create_engine(f'postgresql://{rds_connection_string}')"
   ]
  },
  {
   "cell_type": "code",
   "execution_count": 3,
   "metadata": {},
   "outputs": [],
   "source": [
    "file2015 = \"2015.csv\"\n",
    "file2016 = \"2016.csv\"\n",
    "file2017 = \"2017.csv\"\n",
    "file2018 = \"2018.csv\"\n",
    "file2019 = \"2019.csv\"\n",
    "df15 = pd.read_csv(file2015)\n",
    "df16 = pd.read_csv(file2016)\n",
    "df17 = pd.read_csv(file2017)\n",
    "df18 = pd.read_csv(file2018)\n",
    "df19 = pd.read_csv(file2019)"
   ]
  },
  {
   "cell_type": "code",
   "execution_count": 4,
   "metadata": {},
   "outputs": [],
   "source": [
    "df15 = df15.drop(columns=['Region', 'Happiness Rank', 'Standard Error', 'Family', 'Freedom', 'Trust (Government Corruption)', 'Generosity', 'Dystopia Residual'])"
   ]
  },
  {
   "cell_type": "code",
   "execution_count": 5,
   "metadata": {},
   "outputs": [
    {
     "data": {
      "text/html": "<div>\n<style scoped>\n    .dataframe tbody tr th:only-of-type {\n        vertical-align: middle;\n    }\n\n    .dataframe tbody tr th {\n        vertical-align: top;\n    }\n\n    .dataframe thead th {\n        text-align: right;\n    }\n</style>\n<table border=\"1\" class=\"dataframe\">\n  <thead>\n    <tr style=\"text-align: right;\">\n      <th></th>\n      <th>Country</th>\n      <th>Happiness Score</th>\n      <th>Economy (GDP per Capita)</th>\n      <th>Health (Life Expectancy)</th>\n    </tr>\n  </thead>\n  <tbody>\n    <tr>\n      <th>0</th>\n      <td>Switzerland</td>\n      <td>7.587</td>\n      <td>1.39651</td>\n      <td>0.94143</td>\n    </tr>\n    <tr>\n      <th>1</th>\n      <td>Iceland</td>\n      <td>7.561</td>\n      <td>1.30232</td>\n      <td>0.94784</td>\n    </tr>\n    <tr>\n      <th>2</th>\n      <td>Denmark</td>\n      <td>7.527</td>\n      <td>1.32548</td>\n      <td>0.87464</td>\n    </tr>\n    <tr>\n      <th>3</th>\n      <td>Norway</td>\n      <td>7.522</td>\n      <td>1.45900</td>\n      <td>0.88521</td>\n    </tr>\n    <tr>\n      <th>4</th>\n      <td>Canada</td>\n      <td>7.427</td>\n      <td>1.32629</td>\n      <td>0.90563</td>\n    </tr>\n  </tbody>\n</table>\n</div>",
      "text/plain": "       Country  Happiness Score  Economy (GDP per Capita)  \\\n0  Switzerland            7.587                   1.39651   \n1      Iceland            7.561                   1.30232   \n2      Denmark            7.527                   1.32548   \n3       Norway            7.522                   1.45900   \n4       Canada            7.427                   1.32629   \n\n   Health (Life Expectancy)  \n0                   0.94143  \n1                   0.94784  \n2                   0.87464  \n3                   0.88521  \n4                   0.90563  "
     },
     "execution_count": 5,
     "metadata": {},
     "output_type": "execute_result"
    }
   ],
   "source": [
    "df15.head()"
   ]
  },
  {
   "cell_type": "code",
   "execution_count": 6,
   "metadata": {},
   "outputs": [
    {
     "data": {
      "text/html": "<div>\n<style scoped>\n    .dataframe tbody tr th:only-of-type {\n        vertical-align: middle;\n    }\n\n    .dataframe tbody tr th {\n        vertical-align: top;\n    }\n\n    .dataframe thead th {\n        text-align: right;\n    }\n</style>\n<table border=\"1\" class=\"dataframe\">\n  <thead>\n    <tr style=\"text-align: right;\">\n      <th></th>\n      <th>country</th>\n      <th>happiness_score</th>\n      <th>economy_gdp</th>\n      <th>life_expectancy</th>\n    </tr>\n  </thead>\n  <tbody>\n    <tr>\n      <th>0</th>\n      <td>Switzerland</td>\n      <td>7.587</td>\n      <td>1.39651</td>\n      <td>0.94143</td>\n    </tr>\n    <tr>\n      <th>1</th>\n      <td>Iceland</td>\n      <td>7.561</td>\n      <td>1.30232</td>\n      <td>0.94784</td>\n    </tr>\n    <tr>\n      <th>2</th>\n      <td>Denmark</td>\n      <td>7.527</td>\n      <td>1.32548</td>\n      <td>0.87464</td>\n    </tr>\n    <tr>\n      <th>3</th>\n      <td>Norway</td>\n      <td>7.522</td>\n      <td>1.45900</td>\n      <td>0.88521</td>\n    </tr>\n    <tr>\n      <th>4</th>\n      <td>Canada</td>\n      <td>7.427</td>\n      <td>1.32629</td>\n      <td>0.90563</td>\n    </tr>\n  </tbody>\n</table>\n</div>",
      "text/plain": "       country  happiness_score  economy_gdp  life_expectancy\n0  Switzerland            7.587      1.39651          0.94143\n1      Iceland            7.561      1.30232          0.94784\n2      Denmark            7.527      1.32548          0.87464\n3       Norway            7.522      1.45900          0.88521\n4       Canada            7.427      1.32629          0.90563"
     },
     "execution_count": 6,
     "metadata": {},
     "output_type": "execute_result"
    }
   ],
   "source": [
    "df15 = df15.rename({'Country': 'country', 'Happiness Score': 'happiness_score', 'Economy (GDP per Capita)': 'economy_gdp', 'Health (Life Expectancy)': 'life_expectancy'}, axis=1)\n",
    "df15.head()"
   ]
  },
  {
   "cell_type": "code",
   "execution_count": 7,
   "metadata": {},
   "outputs": [
    {
     "data": {
      "text/html": "<div>\n<style scoped>\n    .dataframe tbody tr th:only-of-type {\n        vertical-align: middle;\n    }\n\n    .dataframe tbody tr th {\n        vertical-align: top;\n    }\n\n    .dataframe thead th {\n        text-align: right;\n    }\n</style>\n<table border=\"1\" class=\"dataframe\">\n  <thead>\n    <tr style=\"text-align: right;\">\n      <th></th>\n      <th>country</th>\n      <th>happiness_score</th>\n      <th>economy_gdp</th>\n      <th>life_expectancy</th>\n      <th>year</th>\n    </tr>\n  </thead>\n  <tbody>\n    <tr>\n      <th>0</th>\n      <td>Switzerland</td>\n      <td>7.587</td>\n      <td>1.39651</td>\n      <td>0.94143</td>\n      <td>2015</td>\n    </tr>\n    <tr>\n      <th>1</th>\n      <td>Iceland</td>\n      <td>7.561</td>\n      <td>1.30232</td>\n      <td>0.94784</td>\n      <td>2015</td>\n    </tr>\n    <tr>\n      <th>2</th>\n      <td>Denmark</td>\n      <td>7.527</td>\n      <td>1.32548</td>\n      <td>0.87464</td>\n      <td>2015</td>\n    </tr>\n    <tr>\n      <th>3</th>\n      <td>Norway</td>\n      <td>7.522</td>\n      <td>1.45900</td>\n      <td>0.88521</td>\n      <td>2015</td>\n    </tr>\n    <tr>\n      <th>4</th>\n      <td>Canada</td>\n      <td>7.427</td>\n      <td>1.32629</td>\n      <td>0.90563</td>\n      <td>2015</td>\n    </tr>\n  </tbody>\n</table>\n</div>",
      "text/plain": "       country  happiness_score  economy_gdp  life_expectancy  year\n0  Switzerland            7.587      1.39651          0.94143  2015\n1      Iceland            7.561      1.30232          0.94784  2015\n2      Denmark            7.527      1.32548          0.87464  2015\n3       Norway            7.522      1.45900          0.88521  2015\n4       Canada            7.427      1.32629          0.90563  2015"
     },
     "execution_count": 7,
     "metadata": {},
     "output_type": "execute_result"
    }
   ],
   "source": [
    "df15['year'] = '2015'\n",
    "df15.head()"
   ]
  },
  {
   "cell_type": "code",
   "execution_count": 8,
   "metadata": {},
   "outputs": [
    {
     "data": {
      "text/html": "<div>\n<style scoped>\n    .dataframe tbody tr th:only-of-type {\n        vertical-align: middle;\n    }\n\n    .dataframe tbody tr th {\n        vertical-align: top;\n    }\n\n    .dataframe thead th {\n        text-align: right;\n    }\n</style>\n<table border=\"1\" class=\"dataframe\">\n  <thead>\n    <tr style=\"text-align: right;\">\n      <th></th>\n      <th>happiness_score</th>\n      <th>economy_gdp</th>\n      <th>life_expectancy</th>\n      <th>year</th>\n    </tr>\n    <tr>\n      <th>country</th>\n      <th></th>\n      <th></th>\n      <th></th>\n      <th></th>\n    </tr>\n  </thead>\n  <tbody>\n    <tr>\n      <th>Switzerland</th>\n      <td>7.587</td>\n      <td>1.39651</td>\n      <td>0.94143</td>\n      <td>2015</td>\n    </tr>\n    <tr>\n      <th>Iceland</th>\n      <td>7.561</td>\n      <td>1.30232</td>\n      <td>0.94784</td>\n      <td>2015</td>\n    </tr>\n    <tr>\n      <th>Denmark</th>\n      <td>7.527</td>\n      <td>1.32548</td>\n      <td>0.87464</td>\n      <td>2015</td>\n    </tr>\n    <tr>\n      <th>Norway</th>\n      <td>7.522</td>\n      <td>1.45900</td>\n      <td>0.88521</td>\n      <td>2015</td>\n    </tr>\n    <tr>\n      <th>Canada</th>\n      <td>7.427</td>\n      <td>1.32629</td>\n      <td>0.90563</td>\n      <td>2015</td>\n    </tr>\n    <tr>\n      <th>...</th>\n      <td>...</td>\n      <td>...</td>\n      <td>...</td>\n      <td>...</td>\n    </tr>\n    <tr>\n      <th>Rwanda</th>\n      <td>3.465</td>\n      <td>0.22208</td>\n      <td>0.42864</td>\n      <td>2015</td>\n    </tr>\n    <tr>\n      <th>Benin</th>\n      <td>3.340</td>\n      <td>0.28665</td>\n      <td>0.31910</td>\n      <td>2015</td>\n    </tr>\n    <tr>\n      <th>Syria</th>\n      <td>3.006</td>\n      <td>0.66320</td>\n      <td>0.72193</td>\n      <td>2015</td>\n    </tr>\n    <tr>\n      <th>Burundi</th>\n      <td>2.905</td>\n      <td>0.01530</td>\n      <td>0.22396</td>\n      <td>2015</td>\n    </tr>\n    <tr>\n      <th>Togo</th>\n      <td>2.839</td>\n      <td>0.20868</td>\n      <td>0.28443</td>\n      <td>2015</td>\n    </tr>\n  </tbody>\n</table>\n<p>158 rows × 4 columns</p>\n</div>",
      "text/plain": "             happiness_score  economy_gdp  life_expectancy  year\ncountry                                                         \nSwitzerland            7.587      1.39651          0.94143  2015\nIceland                7.561      1.30232          0.94784  2015\nDenmark                7.527      1.32548          0.87464  2015\nNorway                 7.522      1.45900          0.88521  2015\nCanada                 7.427      1.32629          0.90563  2015\n...                      ...          ...              ...   ...\nRwanda                 3.465      0.22208          0.42864  2015\nBenin                  3.340      0.28665          0.31910  2015\nSyria                  3.006      0.66320          0.72193  2015\nBurundi                2.905      0.01530          0.22396  2015\nTogo                   2.839      0.20868          0.28443  2015\n\n[158 rows x 4 columns]"
     },
     "execution_count": 8,
     "metadata": {},
     "output_type": "execute_result"
    }
   ],
   "source": [
    "df15.set_index('country')"
   ]
  },
  {
   "cell_type": "code",
   "execution_count": 9,
   "metadata": {},
   "outputs": [],
   "source": [
    "df15.to_csv('df15.csv') "
   ]
  },
  {
   "cell_type": "code",
   "execution_count": 10,
   "metadata": {},
   "outputs": [
    {
     "data": {
      "text/html": "<div>\n<style scoped>\n    .dataframe tbody tr th:only-of-type {\n        vertical-align: middle;\n    }\n\n    .dataframe tbody tr th {\n        vertical-align: top;\n    }\n\n    .dataframe thead th {\n        text-align: right;\n    }\n</style>\n<table border=\"1\" class=\"dataframe\">\n  <thead>\n    <tr style=\"text-align: right;\">\n      <th></th>\n      <th>Country</th>\n      <th>Happiness Score</th>\n      <th>Economy (GDP per Capita)</th>\n      <th>Health (Life Expectancy)</th>\n    </tr>\n  </thead>\n  <tbody>\n    <tr>\n      <th>0</th>\n      <td>Denmark</td>\n      <td>7.526</td>\n      <td>1.44178</td>\n      <td>0.79504</td>\n    </tr>\n    <tr>\n      <th>1</th>\n      <td>Switzerland</td>\n      <td>7.509</td>\n      <td>1.52733</td>\n      <td>0.86303</td>\n    </tr>\n    <tr>\n      <th>2</th>\n      <td>Iceland</td>\n      <td>7.501</td>\n      <td>1.42666</td>\n      <td>0.86733</td>\n    </tr>\n    <tr>\n      <th>3</th>\n      <td>Norway</td>\n      <td>7.498</td>\n      <td>1.57744</td>\n      <td>0.79579</td>\n    </tr>\n    <tr>\n      <th>4</th>\n      <td>Finland</td>\n      <td>7.413</td>\n      <td>1.40598</td>\n      <td>0.81091</td>\n    </tr>\n  </tbody>\n</table>\n</div>",
      "text/plain": "       Country  Happiness Score  Economy (GDP per Capita)  \\\n0      Denmark            7.526                   1.44178   \n1  Switzerland            7.509                   1.52733   \n2      Iceland            7.501                   1.42666   \n3       Norway            7.498                   1.57744   \n4      Finland            7.413                   1.40598   \n\n   Health (Life Expectancy)  \n0                   0.79504  \n1                   0.86303  \n2                   0.86733  \n3                   0.79579  \n4                   0.81091  "
     },
     "execution_count": 10,
     "metadata": {},
     "output_type": "execute_result"
    }
   ],
   "source": [
    "df16 = df16.drop(columns=['Region', 'Happiness Rank', 'Lower Confidence Interval', 'Upper Confidence Interval', 'Family', 'Freedom', 'Trust (Government Corruption)', 'Generosity', 'Dystopia Residual'])\n",
    "df16.head()"
   ]
  },
  {
   "cell_type": "code",
   "execution_count": 11,
   "metadata": {},
   "outputs": [
    {
     "data": {
      "text/html": "<div>\n<style scoped>\n    .dataframe tbody tr th:only-of-type {\n        vertical-align: middle;\n    }\n\n    .dataframe tbody tr th {\n        vertical-align: top;\n    }\n\n    .dataframe thead th {\n        text-align: right;\n    }\n</style>\n<table border=\"1\" class=\"dataframe\">\n  <thead>\n    <tr style=\"text-align: right;\">\n      <th></th>\n      <th>country</th>\n      <th>happiness_score</th>\n      <th>economy_gdp</th>\n      <th>life_expectancy</th>\n    </tr>\n  </thead>\n  <tbody>\n    <tr>\n      <th>0</th>\n      <td>Denmark</td>\n      <td>7.526</td>\n      <td>1.44178</td>\n      <td>0.79504</td>\n    </tr>\n    <tr>\n      <th>1</th>\n      <td>Switzerland</td>\n      <td>7.509</td>\n      <td>1.52733</td>\n      <td>0.86303</td>\n    </tr>\n    <tr>\n      <th>2</th>\n      <td>Iceland</td>\n      <td>7.501</td>\n      <td>1.42666</td>\n      <td>0.86733</td>\n    </tr>\n    <tr>\n      <th>3</th>\n      <td>Norway</td>\n      <td>7.498</td>\n      <td>1.57744</td>\n      <td>0.79579</td>\n    </tr>\n    <tr>\n      <th>4</th>\n      <td>Finland</td>\n      <td>7.413</td>\n      <td>1.40598</td>\n      <td>0.81091</td>\n    </tr>\n  </tbody>\n</table>\n</div>",
      "text/plain": "       country  happiness_score  economy_gdp  life_expectancy\n0      Denmark            7.526      1.44178          0.79504\n1  Switzerland            7.509      1.52733          0.86303\n2      Iceland            7.501      1.42666          0.86733\n3       Norway            7.498      1.57744          0.79579\n4      Finland            7.413      1.40598          0.81091"
     },
     "execution_count": 11,
     "metadata": {},
     "output_type": "execute_result"
    }
   ],
   "source": [
    "df16 = df16.rename({'Country': 'country', 'Happiness Score': 'happiness_score', 'Economy (GDP per Capita)': 'economy_gdp', 'Health (Life Expectancy)': 'life_expectancy'}, axis=1)\n",
    "df16.head()"
   ]
  },
  {
   "cell_type": "code",
   "execution_count": 12,
   "metadata": {},
   "outputs": [
    {
     "data": {
      "text/html": "<div>\n<style scoped>\n    .dataframe tbody tr th:only-of-type {\n        vertical-align: middle;\n    }\n\n    .dataframe tbody tr th {\n        vertical-align: top;\n    }\n\n    .dataframe thead th {\n        text-align: right;\n    }\n</style>\n<table border=\"1\" class=\"dataframe\">\n  <thead>\n    <tr style=\"text-align: right;\">\n      <th></th>\n      <th>country</th>\n      <th>happiness_score</th>\n      <th>economy_gdp</th>\n      <th>life_expectancy</th>\n      <th>year</th>\n    </tr>\n  </thead>\n  <tbody>\n    <tr>\n      <th>0</th>\n      <td>Denmark</td>\n      <td>7.526</td>\n      <td>1.44178</td>\n      <td>0.79504</td>\n      <td>2016</td>\n    </tr>\n    <tr>\n      <th>1</th>\n      <td>Switzerland</td>\n      <td>7.509</td>\n      <td>1.52733</td>\n      <td>0.86303</td>\n      <td>2016</td>\n    </tr>\n    <tr>\n      <th>2</th>\n      <td>Iceland</td>\n      <td>7.501</td>\n      <td>1.42666</td>\n      <td>0.86733</td>\n      <td>2016</td>\n    </tr>\n    <tr>\n      <th>3</th>\n      <td>Norway</td>\n      <td>7.498</td>\n      <td>1.57744</td>\n      <td>0.79579</td>\n      <td>2016</td>\n    </tr>\n    <tr>\n      <th>4</th>\n      <td>Finland</td>\n      <td>7.413</td>\n      <td>1.40598</td>\n      <td>0.81091</td>\n      <td>2016</td>\n    </tr>\n  </tbody>\n</table>\n</div>",
      "text/plain": "       country  happiness_score  economy_gdp  life_expectancy  year\n0      Denmark            7.526      1.44178          0.79504  2016\n1  Switzerland            7.509      1.52733          0.86303  2016\n2      Iceland            7.501      1.42666          0.86733  2016\n3       Norway            7.498      1.57744          0.79579  2016\n4      Finland            7.413      1.40598          0.81091  2016"
     },
     "execution_count": 12,
     "metadata": {},
     "output_type": "execute_result"
    }
   ],
   "source": [
    "df16['year'] = '2016'\n",
    "df16.head()"
   ]
  },
  {
   "cell_type": "code",
   "execution_count": 13,
   "metadata": {},
   "outputs": [
    {
     "data": {
      "text/html": "<div>\n<style scoped>\n    .dataframe tbody tr th:only-of-type {\n        vertical-align: middle;\n    }\n\n    .dataframe tbody tr th {\n        vertical-align: top;\n    }\n\n    .dataframe thead th {\n        text-align: right;\n    }\n</style>\n<table border=\"1\" class=\"dataframe\">\n  <thead>\n    <tr style=\"text-align: right;\">\n      <th></th>\n      <th>happiness_score</th>\n      <th>economy_gdp</th>\n      <th>life_expectancy</th>\n      <th>year</th>\n    </tr>\n    <tr>\n      <th>country</th>\n      <th></th>\n      <th></th>\n      <th></th>\n      <th></th>\n    </tr>\n  </thead>\n  <tbody>\n    <tr>\n      <th>Denmark</th>\n      <td>7.526</td>\n      <td>1.44178</td>\n      <td>0.79504</td>\n      <td>2016</td>\n    </tr>\n    <tr>\n      <th>Switzerland</th>\n      <td>7.509</td>\n      <td>1.52733</td>\n      <td>0.86303</td>\n      <td>2016</td>\n    </tr>\n    <tr>\n      <th>Iceland</th>\n      <td>7.501</td>\n      <td>1.42666</td>\n      <td>0.86733</td>\n      <td>2016</td>\n    </tr>\n    <tr>\n      <th>Norway</th>\n      <td>7.498</td>\n      <td>1.57744</td>\n      <td>0.79579</td>\n      <td>2016</td>\n    </tr>\n    <tr>\n      <th>Finland</th>\n      <td>7.413</td>\n      <td>1.40598</td>\n      <td>0.81091</td>\n      <td>2016</td>\n    </tr>\n    <tr>\n      <th>...</th>\n      <td>...</td>\n      <td>...</td>\n      <td>...</td>\n      <td>...</td>\n    </tr>\n    <tr>\n      <th>Benin</th>\n      <td>3.484</td>\n      <td>0.39499</td>\n      <td>0.21028</td>\n      <td>2016</td>\n    </tr>\n    <tr>\n      <th>Afghanistan</th>\n      <td>3.360</td>\n      <td>0.38227</td>\n      <td>0.17344</td>\n      <td>2016</td>\n    </tr>\n    <tr>\n      <th>Togo</th>\n      <td>3.303</td>\n      <td>0.28123</td>\n      <td>0.24811</td>\n      <td>2016</td>\n    </tr>\n    <tr>\n      <th>Syria</th>\n      <td>3.069</td>\n      <td>0.74719</td>\n      <td>0.62994</td>\n      <td>2016</td>\n    </tr>\n    <tr>\n      <th>Burundi</th>\n      <td>2.905</td>\n      <td>0.06831</td>\n      <td>0.15747</td>\n      <td>2016</td>\n    </tr>\n  </tbody>\n</table>\n<p>157 rows × 4 columns</p>\n</div>",
      "text/plain": "             happiness_score  economy_gdp  life_expectancy  year\ncountry                                                         \nDenmark                7.526      1.44178          0.79504  2016\nSwitzerland            7.509      1.52733          0.86303  2016\nIceland                7.501      1.42666          0.86733  2016\nNorway                 7.498      1.57744          0.79579  2016\nFinland                7.413      1.40598          0.81091  2016\n...                      ...          ...              ...   ...\nBenin                  3.484      0.39499          0.21028  2016\nAfghanistan            3.360      0.38227          0.17344  2016\nTogo                   3.303      0.28123          0.24811  2016\nSyria                  3.069      0.74719          0.62994  2016\nBurundi                2.905      0.06831          0.15747  2016\n\n[157 rows x 4 columns]"
     },
     "execution_count": 13,
     "metadata": {},
     "output_type": "execute_result"
    }
   ],
   "source": [
    "df16.set_index('country')"
   ]
  },
  {
   "cell_type": "code",
   "execution_count": 14,
   "metadata": {},
   "outputs": [],
   "source": [
    "df16.to_csv('df16.csv')"
   ]
  },
  {
   "cell_type": "code",
   "execution_count": 15,
   "metadata": {},
   "outputs": [
    {
     "data": {
      "text/html": "<div>\n<style scoped>\n    .dataframe tbody tr th:only-of-type {\n        vertical-align: middle;\n    }\n\n    .dataframe tbody tr th {\n        vertical-align: top;\n    }\n\n    .dataframe thead th {\n        text-align: right;\n    }\n</style>\n<table border=\"1\" class=\"dataframe\">\n  <thead>\n    <tr style=\"text-align: right;\">\n      <th></th>\n      <th>Country</th>\n      <th>Happiness.Score</th>\n      <th>Economy..GDP.per.Capita.</th>\n      <th>Health..Life.Expectancy.</th>\n    </tr>\n  </thead>\n  <tbody>\n    <tr>\n      <th>0</th>\n      <td>Norway</td>\n      <td>7.537</td>\n      <td>1.616463</td>\n      <td>0.796667</td>\n    </tr>\n    <tr>\n      <th>1</th>\n      <td>Denmark</td>\n      <td>7.522</td>\n      <td>1.482383</td>\n      <td>0.792566</td>\n    </tr>\n    <tr>\n      <th>2</th>\n      <td>Iceland</td>\n      <td>7.504</td>\n      <td>1.480633</td>\n      <td>0.833552</td>\n    </tr>\n    <tr>\n      <th>3</th>\n      <td>Switzerland</td>\n      <td>7.494</td>\n      <td>1.564980</td>\n      <td>0.858131</td>\n    </tr>\n    <tr>\n      <th>4</th>\n      <td>Finland</td>\n      <td>7.469</td>\n      <td>1.443572</td>\n      <td>0.809158</td>\n    </tr>\n  </tbody>\n</table>\n</div>",
      "text/plain": "       Country  Happiness.Score  Economy..GDP.per.Capita.  \\\n0       Norway            7.537                  1.616463   \n1      Denmark            7.522                  1.482383   \n2      Iceland            7.504                  1.480633   \n3  Switzerland            7.494                  1.564980   \n4      Finland            7.469                  1.443572   \n\n   Health..Life.Expectancy.  \n0                  0.796667  \n1                  0.792566  \n2                  0.833552  \n3                  0.858131  \n4                  0.809158  "
     },
     "execution_count": 15,
     "metadata": {},
     "output_type": "execute_result"
    }
   ],
   "source": [
    "df17 = df17.drop(columns=['Happiness.Rank', 'Whisker.high', 'Whisker.low', 'Family', 'Freedom', 'Generosity', 'Trust..Government.Corruption.', 'Dystopia.Residual'])\n",
    "df17.head()"
   ]
  },
  {
   "cell_type": "code",
   "execution_count": 16,
   "metadata": {},
   "outputs": [
    {
     "data": {
      "text/html": "<div>\n<style scoped>\n    .dataframe tbody tr th:only-of-type {\n        vertical-align: middle;\n    }\n\n    .dataframe tbody tr th {\n        vertical-align: top;\n    }\n\n    .dataframe thead th {\n        text-align: right;\n    }\n</style>\n<table border=\"1\" class=\"dataframe\">\n  <thead>\n    <tr style=\"text-align: right;\">\n      <th></th>\n      <th>country</th>\n      <th>happiness_score</th>\n      <th>economy_gdp</th>\n      <th>life_expectancy</th>\n    </tr>\n  </thead>\n  <tbody>\n    <tr>\n      <th>0</th>\n      <td>Norway</td>\n      <td>7.537</td>\n      <td>1.616463</td>\n      <td>0.796667</td>\n    </tr>\n    <tr>\n      <th>1</th>\n      <td>Denmark</td>\n      <td>7.522</td>\n      <td>1.482383</td>\n      <td>0.792566</td>\n    </tr>\n    <tr>\n      <th>2</th>\n      <td>Iceland</td>\n      <td>7.504</td>\n      <td>1.480633</td>\n      <td>0.833552</td>\n    </tr>\n    <tr>\n      <th>3</th>\n      <td>Switzerland</td>\n      <td>7.494</td>\n      <td>1.564980</td>\n      <td>0.858131</td>\n    </tr>\n    <tr>\n      <th>4</th>\n      <td>Finland</td>\n      <td>7.469</td>\n      <td>1.443572</td>\n      <td>0.809158</td>\n    </tr>\n  </tbody>\n</table>\n</div>",
      "text/plain": "       country  happiness_score  economy_gdp  life_expectancy\n0       Norway            7.537     1.616463         0.796667\n1      Denmark            7.522     1.482383         0.792566\n2      Iceland            7.504     1.480633         0.833552\n3  Switzerland            7.494     1.564980         0.858131\n4      Finland            7.469     1.443572         0.809158"
     },
     "execution_count": 16,
     "metadata": {},
     "output_type": "execute_result"
    }
   ],
   "source": [
    "df17 = df17.rename({'Country': 'country', 'Happiness.Score': 'happiness_score', 'Economy..GDP.per.Capita.': 'economy_gdp', 'Health..Life.Expectancy.': 'life_expectancy'}, axis=1)\n",
    "df17.head()"
   ]
  },
  {
   "cell_type": "code",
   "execution_count": 17,
   "metadata": {},
   "outputs": [
    {
     "data": {
      "text/html": "<div>\n<style scoped>\n    .dataframe tbody tr th:only-of-type {\n        vertical-align: middle;\n    }\n\n    .dataframe tbody tr th {\n        vertical-align: top;\n    }\n\n    .dataframe thead th {\n        text-align: right;\n    }\n</style>\n<table border=\"1\" class=\"dataframe\">\n  <thead>\n    <tr style=\"text-align: right;\">\n      <th></th>\n      <th>country</th>\n      <th>happiness_score</th>\n      <th>economy_gdp</th>\n      <th>life_expectancy</th>\n      <th>year</th>\n    </tr>\n  </thead>\n  <tbody>\n    <tr>\n      <th>0</th>\n      <td>Norway</td>\n      <td>7.537</td>\n      <td>1.616463</td>\n      <td>0.796667</td>\n      <td>2017</td>\n    </tr>\n    <tr>\n      <th>1</th>\n      <td>Denmark</td>\n      <td>7.522</td>\n      <td>1.482383</td>\n      <td>0.792566</td>\n      <td>2017</td>\n    </tr>\n    <tr>\n      <th>2</th>\n      <td>Iceland</td>\n      <td>7.504</td>\n      <td>1.480633</td>\n      <td>0.833552</td>\n      <td>2017</td>\n    </tr>\n    <tr>\n      <th>3</th>\n      <td>Switzerland</td>\n      <td>7.494</td>\n      <td>1.564980</td>\n      <td>0.858131</td>\n      <td>2017</td>\n    </tr>\n    <tr>\n      <th>4</th>\n      <td>Finland</td>\n      <td>7.469</td>\n      <td>1.443572</td>\n      <td>0.809158</td>\n      <td>2017</td>\n    </tr>\n  </tbody>\n</table>\n</div>",
      "text/plain": "       country  happiness_score  economy_gdp  life_expectancy  year\n0       Norway            7.537     1.616463         0.796667  2017\n1      Denmark            7.522     1.482383         0.792566  2017\n2      Iceland            7.504     1.480633         0.833552  2017\n3  Switzerland            7.494     1.564980         0.858131  2017\n4      Finland            7.469     1.443572         0.809158  2017"
     },
     "execution_count": 17,
     "metadata": {},
     "output_type": "execute_result"
    }
   ],
   "source": [
    "df17['year'] = '2017'\n",
    "df17.head()"
   ]
  },
  {
   "cell_type": "code",
   "execution_count": 18,
   "metadata": {},
   "outputs": [
    {
     "data": {
      "text/html": "<div>\n<style scoped>\n    .dataframe tbody tr th:only-of-type {\n        vertical-align: middle;\n    }\n\n    .dataframe tbody tr th {\n        vertical-align: top;\n    }\n\n    .dataframe thead th {\n        text-align: right;\n    }\n</style>\n<table border=\"1\" class=\"dataframe\">\n  <thead>\n    <tr style=\"text-align: right;\">\n      <th></th>\n      <th>happiness_score</th>\n      <th>economy_gdp</th>\n      <th>life_expectancy</th>\n      <th>year</th>\n    </tr>\n    <tr>\n      <th>country</th>\n      <th></th>\n      <th></th>\n      <th></th>\n      <th></th>\n    </tr>\n  </thead>\n  <tbody>\n    <tr>\n      <th>Norway</th>\n      <td>7.537</td>\n      <td>1.616463</td>\n      <td>0.796667</td>\n      <td>2017</td>\n    </tr>\n    <tr>\n      <th>Denmark</th>\n      <td>7.522</td>\n      <td>1.482383</td>\n      <td>0.792566</td>\n      <td>2017</td>\n    </tr>\n    <tr>\n      <th>Iceland</th>\n      <td>7.504</td>\n      <td>1.480633</td>\n      <td>0.833552</td>\n      <td>2017</td>\n    </tr>\n    <tr>\n      <th>Switzerland</th>\n      <td>7.494</td>\n      <td>1.564980</td>\n      <td>0.858131</td>\n      <td>2017</td>\n    </tr>\n    <tr>\n      <th>Finland</th>\n      <td>7.469</td>\n      <td>1.443572</td>\n      <td>0.809158</td>\n      <td>2017</td>\n    </tr>\n    <tr>\n      <th>...</th>\n      <td>...</td>\n      <td>...</td>\n      <td>...</td>\n      <td>...</td>\n    </tr>\n    <tr>\n      <th>Rwanda</th>\n      <td>3.471</td>\n      <td>0.368746</td>\n      <td>0.326425</td>\n      <td>2017</td>\n    </tr>\n    <tr>\n      <th>Syria</th>\n      <td>3.462</td>\n      <td>0.777153</td>\n      <td>0.500533</td>\n      <td>2017</td>\n    </tr>\n    <tr>\n      <th>Tanzania</th>\n      <td>3.349</td>\n      <td>0.511136</td>\n      <td>0.364509</td>\n      <td>2017</td>\n    </tr>\n    <tr>\n      <th>Burundi</th>\n      <td>2.905</td>\n      <td>0.091623</td>\n      <td>0.151611</td>\n      <td>2017</td>\n    </tr>\n    <tr>\n      <th>Central African Republic</th>\n      <td>2.693</td>\n      <td>0.000000</td>\n      <td>0.018773</td>\n      <td>2017</td>\n    </tr>\n  </tbody>\n</table>\n<p>155 rows × 4 columns</p>\n</div>",
      "text/plain": "                          happiness_score  economy_gdp  life_expectancy  year\ncountry                                                                      \nNorway                              7.537     1.616463         0.796667  2017\nDenmark                             7.522     1.482383         0.792566  2017\nIceland                             7.504     1.480633         0.833552  2017\nSwitzerland                         7.494     1.564980         0.858131  2017\nFinland                             7.469     1.443572         0.809158  2017\n...                                   ...          ...              ...   ...\nRwanda                              3.471     0.368746         0.326425  2017\nSyria                               3.462     0.777153         0.500533  2017\nTanzania                            3.349     0.511136         0.364509  2017\nBurundi                             2.905     0.091623         0.151611  2017\nCentral African Republic            2.693     0.000000         0.018773  2017\n\n[155 rows x 4 columns]"
     },
     "execution_count": 18,
     "metadata": {},
     "output_type": "execute_result"
    }
   ],
   "source": [
    "df17.set_index('country')"
   ]
  },
  {
   "cell_type": "code",
   "execution_count": 19,
   "metadata": {},
   "outputs": [],
   "source": [
    "df17.to_csv('df17.csv')"
   ]
  },
  {
   "cell_type": "code",
   "execution_count": 20,
   "metadata": {},
   "outputs": [
    {
     "data": {
      "text/html": "<div>\n<style scoped>\n    .dataframe tbody tr th:only-of-type {\n        vertical-align: middle;\n    }\n\n    .dataframe tbody tr th {\n        vertical-align: top;\n    }\n\n    .dataframe thead th {\n        text-align: right;\n    }\n</style>\n<table border=\"1\" class=\"dataframe\">\n  <thead>\n    <tr style=\"text-align: right;\">\n      <th></th>\n      <th>Country or region</th>\n      <th>Score</th>\n      <th>GDP per capita</th>\n      <th>Healthy life expectancy</th>\n    </tr>\n  </thead>\n  <tbody>\n    <tr>\n      <th>0</th>\n      <td>Finland</td>\n      <td>7.632</td>\n      <td>1.305</td>\n      <td>0.874</td>\n    </tr>\n    <tr>\n      <th>1</th>\n      <td>Norway</td>\n      <td>7.594</td>\n      <td>1.456</td>\n      <td>0.861</td>\n    </tr>\n    <tr>\n      <th>2</th>\n      <td>Denmark</td>\n      <td>7.555</td>\n      <td>1.351</td>\n      <td>0.868</td>\n    </tr>\n    <tr>\n      <th>3</th>\n      <td>Iceland</td>\n      <td>7.495</td>\n      <td>1.343</td>\n      <td>0.914</td>\n    </tr>\n    <tr>\n      <th>4</th>\n      <td>Switzerland</td>\n      <td>7.487</td>\n      <td>1.420</td>\n      <td>0.927</td>\n    </tr>\n  </tbody>\n</table>\n</div>",
      "text/plain": "  Country or region  Score  GDP per capita  Healthy life expectancy\n0           Finland  7.632           1.305                    0.874\n1            Norway  7.594           1.456                    0.861\n2           Denmark  7.555           1.351                    0.868\n3           Iceland  7.495           1.343                    0.914\n4       Switzerland  7.487           1.420                    0.927"
     },
     "execution_count": 20,
     "metadata": {},
     "output_type": "execute_result"
    }
   ],
   "source": [
    "df18 = df18.drop(columns=['Overall rank', 'Social support', 'Freedom to make life choices', 'Generosity', 'Perceptions of corruption'])\n",
    "df18.head()"
   ]
  },
  {
   "cell_type": "code",
   "execution_count": 21,
   "metadata": {},
   "outputs": [
    {
     "data": {
      "text/html": "<div>\n<style scoped>\n    .dataframe tbody tr th:only-of-type {\n        vertical-align: middle;\n    }\n\n    .dataframe tbody tr th {\n        vertical-align: top;\n    }\n\n    .dataframe thead th {\n        text-align: right;\n    }\n</style>\n<table border=\"1\" class=\"dataframe\">\n  <thead>\n    <tr style=\"text-align: right;\">\n      <th></th>\n      <th>country</th>\n      <th>happiness_score</th>\n      <th>economy_gdp</th>\n      <th>life_expectancy</th>\n    </tr>\n  </thead>\n  <tbody>\n    <tr>\n      <th>0</th>\n      <td>Finland</td>\n      <td>7.632</td>\n      <td>1.305</td>\n      <td>0.874</td>\n    </tr>\n    <tr>\n      <th>1</th>\n      <td>Norway</td>\n      <td>7.594</td>\n      <td>1.456</td>\n      <td>0.861</td>\n    </tr>\n    <tr>\n      <th>2</th>\n      <td>Denmark</td>\n      <td>7.555</td>\n      <td>1.351</td>\n      <td>0.868</td>\n    </tr>\n    <tr>\n      <th>3</th>\n      <td>Iceland</td>\n      <td>7.495</td>\n      <td>1.343</td>\n      <td>0.914</td>\n    </tr>\n    <tr>\n      <th>4</th>\n      <td>Switzerland</td>\n      <td>7.487</td>\n      <td>1.420</td>\n      <td>0.927</td>\n    </tr>\n  </tbody>\n</table>\n</div>",
      "text/plain": "       country  happiness_score  economy_gdp  life_expectancy\n0      Finland            7.632        1.305            0.874\n1       Norway            7.594        1.456            0.861\n2      Denmark            7.555        1.351            0.868\n3      Iceland            7.495        1.343            0.914\n4  Switzerland            7.487        1.420            0.927"
     },
     "execution_count": 21,
     "metadata": {},
     "output_type": "execute_result"
    }
   ],
   "source": [
    "df18 = df18.rename({'Country or region': 'country', 'Score': 'happiness_score', 'GDP per capita': 'economy_gdp', 'Healthy life expectancy': 'life_expectancy'}, axis=1)\n",
    "df18.head()"
   ]
  },
  {
   "cell_type": "code",
   "execution_count": 22,
   "metadata": {},
   "outputs": [
    {
     "data": {
      "text/html": "<div>\n<style scoped>\n    .dataframe tbody tr th:only-of-type {\n        vertical-align: middle;\n    }\n\n    .dataframe tbody tr th {\n        vertical-align: top;\n    }\n\n    .dataframe thead th {\n        text-align: right;\n    }\n</style>\n<table border=\"1\" class=\"dataframe\">\n  <thead>\n    <tr style=\"text-align: right;\">\n      <th></th>\n      <th>country</th>\n      <th>happiness_score</th>\n      <th>economy_gdp</th>\n      <th>life_expectancy</th>\n      <th>year</th>\n    </tr>\n  </thead>\n  <tbody>\n    <tr>\n      <th>0</th>\n      <td>Finland</td>\n      <td>7.632</td>\n      <td>1.305</td>\n      <td>0.874</td>\n      <td>2018</td>\n    </tr>\n    <tr>\n      <th>1</th>\n      <td>Norway</td>\n      <td>7.594</td>\n      <td>1.456</td>\n      <td>0.861</td>\n      <td>2018</td>\n    </tr>\n    <tr>\n      <th>2</th>\n      <td>Denmark</td>\n      <td>7.555</td>\n      <td>1.351</td>\n      <td>0.868</td>\n      <td>2018</td>\n    </tr>\n    <tr>\n      <th>3</th>\n      <td>Iceland</td>\n      <td>7.495</td>\n      <td>1.343</td>\n      <td>0.914</td>\n      <td>2018</td>\n    </tr>\n    <tr>\n      <th>4</th>\n      <td>Switzerland</td>\n      <td>7.487</td>\n      <td>1.420</td>\n      <td>0.927</td>\n      <td>2018</td>\n    </tr>\n  </tbody>\n</table>\n</div>",
      "text/plain": "       country  happiness_score  economy_gdp  life_expectancy  year\n0      Finland            7.632        1.305            0.874  2018\n1       Norway            7.594        1.456            0.861  2018\n2      Denmark            7.555        1.351            0.868  2018\n3      Iceland            7.495        1.343            0.914  2018\n4  Switzerland            7.487        1.420            0.927  2018"
     },
     "execution_count": 22,
     "metadata": {},
     "output_type": "execute_result"
    }
   ],
   "source": [
    "df18['year'] = '2018'\n",
    "df18.head()"
   ]
  },
  {
   "cell_type": "code",
   "execution_count": 23,
   "metadata": {},
   "outputs": [
    {
     "data": {
      "text/html": "<div>\n<style scoped>\n    .dataframe tbody tr th:only-of-type {\n        vertical-align: middle;\n    }\n\n    .dataframe tbody tr th {\n        vertical-align: top;\n    }\n\n    .dataframe thead th {\n        text-align: right;\n    }\n</style>\n<table border=\"1\" class=\"dataframe\">\n  <thead>\n    <tr style=\"text-align: right;\">\n      <th></th>\n      <th>happiness_score</th>\n      <th>economy_gdp</th>\n      <th>life_expectancy</th>\n      <th>year</th>\n    </tr>\n    <tr>\n      <th>country</th>\n      <th></th>\n      <th></th>\n      <th></th>\n      <th></th>\n    </tr>\n  </thead>\n  <tbody>\n    <tr>\n      <th>Finland</th>\n      <td>7.632</td>\n      <td>1.305</td>\n      <td>0.874</td>\n      <td>2018</td>\n    </tr>\n    <tr>\n      <th>Norway</th>\n      <td>7.594</td>\n      <td>1.456</td>\n      <td>0.861</td>\n      <td>2018</td>\n    </tr>\n    <tr>\n      <th>Denmark</th>\n      <td>7.555</td>\n      <td>1.351</td>\n      <td>0.868</td>\n      <td>2018</td>\n    </tr>\n    <tr>\n      <th>Iceland</th>\n      <td>7.495</td>\n      <td>1.343</td>\n      <td>0.914</td>\n      <td>2018</td>\n    </tr>\n    <tr>\n      <th>Switzerland</th>\n      <td>7.487</td>\n      <td>1.420</td>\n      <td>0.927</td>\n      <td>2018</td>\n    </tr>\n    <tr>\n      <th>...</th>\n      <td>...</td>\n      <td>...</td>\n      <td>...</td>\n      <td>...</td>\n    </tr>\n    <tr>\n      <th>Yemen</th>\n      <td>3.355</td>\n      <td>0.442</td>\n      <td>0.343</td>\n      <td>2018</td>\n    </tr>\n    <tr>\n      <th>Tanzania</th>\n      <td>3.303</td>\n      <td>0.455</td>\n      <td>0.381</td>\n      <td>2018</td>\n    </tr>\n    <tr>\n      <th>South Sudan</th>\n      <td>3.254</td>\n      <td>0.337</td>\n      <td>0.177</td>\n      <td>2018</td>\n    </tr>\n    <tr>\n      <th>Central African Republic</th>\n      <td>3.083</td>\n      <td>0.024</td>\n      <td>0.010</td>\n      <td>2018</td>\n    </tr>\n    <tr>\n      <th>Burundi</th>\n      <td>2.905</td>\n      <td>0.091</td>\n      <td>0.145</td>\n      <td>2018</td>\n    </tr>\n  </tbody>\n</table>\n<p>156 rows × 4 columns</p>\n</div>",
      "text/plain": "                          happiness_score  economy_gdp  life_expectancy  year\ncountry                                                                      \nFinland                             7.632        1.305            0.874  2018\nNorway                              7.594        1.456            0.861  2018\nDenmark                             7.555        1.351            0.868  2018\nIceland                             7.495        1.343            0.914  2018\nSwitzerland                         7.487        1.420            0.927  2018\n...                                   ...          ...              ...   ...\nYemen                               3.355        0.442            0.343  2018\nTanzania                            3.303        0.455            0.381  2018\nSouth Sudan                         3.254        0.337            0.177  2018\nCentral African Republic            3.083        0.024            0.010  2018\nBurundi                             2.905        0.091            0.145  2018\n\n[156 rows x 4 columns]"
     },
     "execution_count": 23,
     "metadata": {},
     "output_type": "execute_result"
    }
   ],
   "source": [
    "df18.set_index('country')"
   ]
  },
  {
   "cell_type": "code",
   "execution_count": 24,
   "metadata": {},
   "outputs": [],
   "source": [
    "df18.to_csv('df18.csv')"
   ]
  },
  {
   "cell_type": "code",
   "execution_count": 25,
   "metadata": {},
   "outputs": [
    {
     "data": {
      "text/html": "<div>\n<style scoped>\n    .dataframe tbody tr th:only-of-type {\n        vertical-align: middle;\n    }\n\n    .dataframe tbody tr th {\n        vertical-align: top;\n    }\n\n    .dataframe thead th {\n        text-align: right;\n    }\n</style>\n<table border=\"1\" class=\"dataframe\">\n  <thead>\n    <tr style=\"text-align: right;\">\n      <th></th>\n      <th>Country or region</th>\n      <th>Score</th>\n      <th>GDP per capita</th>\n      <th>Healthy life expectancy</th>\n    </tr>\n  </thead>\n  <tbody>\n    <tr>\n      <th>0</th>\n      <td>Finland</td>\n      <td>7.769</td>\n      <td>1.340</td>\n      <td>0.986</td>\n    </tr>\n    <tr>\n      <th>1</th>\n      <td>Denmark</td>\n      <td>7.600</td>\n      <td>1.383</td>\n      <td>0.996</td>\n    </tr>\n    <tr>\n      <th>2</th>\n      <td>Norway</td>\n      <td>7.554</td>\n      <td>1.488</td>\n      <td>1.028</td>\n    </tr>\n    <tr>\n      <th>3</th>\n      <td>Iceland</td>\n      <td>7.494</td>\n      <td>1.380</td>\n      <td>1.026</td>\n    </tr>\n    <tr>\n      <th>4</th>\n      <td>Netherlands</td>\n      <td>7.488</td>\n      <td>1.396</td>\n      <td>0.999</td>\n    </tr>\n  </tbody>\n</table>\n</div>",
      "text/plain": "  Country or region  Score  GDP per capita  Healthy life expectancy\n0           Finland  7.769           1.340                    0.986\n1           Denmark  7.600           1.383                    0.996\n2            Norway  7.554           1.488                    1.028\n3           Iceland  7.494           1.380                    1.026\n4       Netherlands  7.488           1.396                    0.999"
     },
     "execution_count": 25,
     "metadata": {},
     "output_type": "execute_result"
    }
   ],
   "source": [
    "df19 = df19.drop(columns=['Overall rank', 'Social support', 'Freedom to make life choices', 'Generosity', 'Perceptions of corruption'])\n",
    "df19.head()"
   ]
  },
  {
   "cell_type": "code",
   "execution_count": 26,
   "metadata": {},
   "outputs": [
    {
     "data": {
      "text/html": "<div>\n<style scoped>\n    .dataframe tbody tr th:only-of-type {\n        vertical-align: middle;\n    }\n\n    .dataframe tbody tr th {\n        vertical-align: top;\n    }\n\n    .dataframe thead th {\n        text-align: right;\n    }\n</style>\n<table border=\"1\" class=\"dataframe\">\n  <thead>\n    <tr style=\"text-align: right;\">\n      <th></th>\n      <th>country</th>\n      <th>happiness_score</th>\n      <th>economy_gdp</th>\n      <th>life_expectancy</th>\n    </tr>\n  </thead>\n  <tbody>\n    <tr>\n      <th>0</th>\n      <td>Finland</td>\n      <td>7.769</td>\n      <td>1.340</td>\n      <td>0.986</td>\n    </tr>\n    <tr>\n      <th>1</th>\n      <td>Denmark</td>\n      <td>7.600</td>\n      <td>1.383</td>\n      <td>0.996</td>\n    </tr>\n    <tr>\n      <th>2</th>\n      <td>Norway</td>\n      <td>7.554</td>\n      <td>1.488</td>\n      <td>1.028</td>\n    </tr>\n    <tr>\n      <th>3</th>\n      <td>Iceland</td>\n      <td>7.494</td>\n      <td>1.380</td>\n      <td>1.026</td>\n    </tr>\n    <tr>\n      <th>4</th>\n      <td>Netherlands</td>\n      <td>7.488</td>\n      <td>1.396</td>\n      <td>0.999</td>\n    </tr>\n  </tbody>\n</table>\n</div>",
      "text/plain": "       country  happiness_score  economy_gdp  life_expectancy\n0      Finland            7.769        1.340            0.986\n1      Denmark            7.600        1.383            0.996\n2       Norway            7.554        1.488            1.028\n3      Iceland            7.494        1.380            1.026\n4  Netherlands            7.488        1.396            0.999"
     },
     "execution_count": 26,
     "metadata": {},
     "output_type": "execute_result"
    }
   ],
   "source": [
    "df19 = df19.rename({'Country or region': 'country', 'Score': 'happiness_score', 'GDP per capita': 'economy_gdp', 'Healthy life expectancy': 'life_expectancy'}, axis=1)\n",
    "df19.head()"
   ]
  },
  {
   "cell_type": "code",
   "execution_count": 27,
   "metadata": {},
   "outputs": [
    {
     "data": {
      "text/html": "<div>\n<style scoped>\n    .dataframe tbody tr th:only-of-type {\n        vertical-align: middle;\n    }\n\n    .dataframe tbody tr th {\n        vertical-align: top;\n    }\n\n    .dataframe thead th {\n        text-align: right;\n    }\n</style>\n<table border=\"1\" class=\"dataframe\">\n  <thead>\n    <tr style=\"text-align: right;\">\n      <th></th>\n      <th>country</th>\n      <th>happiness_score</th>\n      <th>economy_gdp</th>\n      <th>life_expectancy</th>\n      <th>year</th>\n    </tr>\n  </thead>\n  <tbody>\n    <tr>\n      <th>0</th>\n      <td>Finland</td>\n      <td>7.769</td>\n      <td>1.340</td>\n      <td>0.986</td>\n      <td>2019</td>\n    </tr>\n    <tr>\n      <th>1</th>\n      <td>Denmark</td>\n      <td>7.600</td>\n      <td>1.383</td>\n      <td>0.996</td>\n      <td>2019</td>\n    </tr>\n    <tr>\n      <th>2</th>\n      <td>Norway</td>\n      <td>7.554</td>\n      <td>1.488</td>\n      <td>1.028</td>\n      <td>2019</td>\n    </tr>\n    <tr>\n      <th>3</th>\n      <td>Iceland</td>\n      <td>7.494</td>\n      <td>1.380</td>\n      <td>1.026</td>\n      <td>2019</td>\n    </tr>\n    <tr>\n      <th>4</th>\n      <td>Netherlands</td>\n      <td>7.488</td>\n      <td>1.396</td>\n      <td>0.999</td>\n      <td>2019</td>\n    </tr>\n  </tbody>\n</table>\n</div>",
      "text/plain": "       country  happiness_score  economy_gdp  life_expectancy  year\n0      Finland            7.769        1.340            0.986  2019\n1      Denmark            7.600        1.383            0.996  2019\n2       Norway            7.554        1.488            1.028  2019\n3      Iceland            7.494        1.380            1.026  2019\n4  Netherlands            7.488        1.396            0.999  2019"
     },
     "execution_count": 27,
     "metadata": {},
     "output_type": "execute_result"
    }
   ],
   "source": [
    "df19['year'] = '2019'\n",
    "df19.head()"
   ]
  },
  {
   "cell_type": "code",
   "execution_count": 28,
   "metadata": {},
   "outputs": [
    {
     "data": {
      "text/html": "<div>\n<style scoped>\n    .dataframe tbody tr th:only-of-type {\n        vertical-align: middle;\n    }\n\n    .dataframe tbody tr th {\n        vertical-align: top;\n    }\n\n    .dataframe thead th {\n        text-align: right;\n    }\n</style>\n<table border=\"1\" class=\"dataframe\">\n  <thead>\n    <tr style=\"text-align: right;\">\n      <th></th>\n      <th>happiness_score</th>\n      <th>economy_gdp</th>\n      <th>life_expectancy</th>\n      <th>year</th>\n    </tr>\n    <tr>\n      <th>country</th>\n      <th></th>\n      <th></th>\n      <th></th>\n      <th></th>\n    </tr>\n  </thead>\n  <tbody>\n    <tr>\n      <th>Finland</th>\n      <td>7.769</td>\n      <td>1.340</td>\n      <td>0.986</td>\n      <td>2019</td>\n    </tr>\n    <tr>\n      <th>Denmark</th>\n      <td>7.600</td>\n      <td>1.383</td>\n      <td>0.996</td>\n      <td>2019</td>\n    </tr>\n    <tr>\n      <th>Norway</th>\n      <td>7.554</td>\n      <td>1.488</td>\n      <td>1.028</td>\n      <td>2019</td>\n    </tr>\n    <tr>\n      <th>Iceland</th>\n      <td>7.494</td>\n      <td>1.380</td>\n      <td>1.026</td>\n      <td>2019</td>\n    </tr>\n    <tr>\n      <th>Netherlands</th>\n      <td>7.488</td>\n      <td>1.396</td>\n      <td>0.999</td>\n      <td>2019</td>\n    </tr>\n    <tr>\n      <th>...</th>\n      <td>...</td>\n      <td>...</td>\n      <td>...</td>\n      <td>...</td>\n    </tr>\n    <tr>\n      <th>Rwanda</th>\n      <td>3.334</td>\n      <td>0.359</td>\n      <td>0.614</td>\n      <td>2019</td>\n    </tr>\n    <tr>\n      <th>Tanzania</th>\n      <td>3.231</td>\n      <td>0.476</td>\n      <td>0.499</td>\n      <td>2019</td>\n    </tr>\n    <tr>\n      <th>Afghanistan</th>\n      <td>3.203</td>\n      <td>0.350</td>\n      <td>0.361</td>\n      <td>2019</td>\n    </tr>\n    <tr>\n      <th>Central African Republic</th>\n      <td>3.083</td>\n      <td>0.026</td>\n      <td>0.105</td>\n      <td>2019</td>\n    </tr>\n    <tr>\n      <th>South Sudan</th>\n      <td>2.853</td>\n      <td>0.306</td>\n      <td>0.295</td>\n      <td>2019</td>\n    </tr>\n  </tbody>\n</table>\n<p>156 rows × 4 columns</p>\n</div>",
      "text/plain": "                          happiness_score  economy_gdp  life_expectancy  year\ncountry                                                                      \nFinland                             7.769        1.340            0.986  2019\nDenmark                             7.600        1.383            0.996  2019\nNorway                              7.554        1.488            1.028  2019\nIceland                             7.494        1.380            1.026  2019\nNetherlands                         7.488        1.396            0.999  2019\n...                                   ...          ...              ...   ...\nRwanda                              3.334        0.359            0.614  2019\nTanzania                            3.231        0.476            0.499  2019\nAfghanistan                         3.203        0.350            0.361  2019\nCentral African Republic            3.083        0.026            0.105  2019\nSouth Sudan                         2.853        0.306            0.295  2019\n\n[156 rows x 4 columns]"
     },
     "execution_count": 28,
     "metadata": {},
     "output_type": "execute_result"
    }
   ],
   "source": [
    "df19.set_index('country')"
   ]
  },
  {
   "cell_type": "code",
   "execution_count": 29,
   "metadata": {},
   "outputs": [],
   "source": [
    "df19.to_csv('df19.csv')"
   ]
  },
  {
   "cell_type": "code",
   "execution_count": 30,
   "metadata": {},
   "outputs": [],
   "source": [
    "merge1 = pd.merge(df15, df16, how='outer', on=None)"
   ]
  },
  {
   "cell_type": "code",
   "execution_count": 31,
   "metadata": {},
   "outputs": [],
   "source": [
    "merge2 = pd.merge(merge1, df17, how='outer', on=None)"
   ]
  },
  {
   "cell_type": "code",
   "execution_count": 32,
   "metadata": {},
   "outputs": [],
   "source": [
    "merge3 = pd.merge(merge2, df18, how='outer', on=None)"
   ]
  },
  {
   "cell_type": "code",
   "execution_count": 33,
   "metadata": {},
   "outputs": [],
   "source": [
    "final_happy = pd.merge(merge3, df19, how='outer', on=None)"
   ]
  },
  {
   "cell_type": "code",
   "execution_count": 34,
   "metadata": {},
   "outputs": [],
   "source": [
    "final_happy.reset_index(drop=True, inplace=True)"
   ]
  },
  {
   "cell_type": "code",
   "execution_count": 35,
   "metadata": {},
   "outputs": [
    {
     "data": {
      "text/html": "<div>\n<style scoped>\n    .dataframe tbody tr th:only-of-type {\n        vertical-align: middle;\n    }\n\n    .dataframe tbody tr th {\n        vertical-align: top;\n    }\n\n    .dataframe thead th {\n        text-align: right;\n    }\n</style>\n<table border=\"1\" class=\"dataframe\">\n  <thead>\n    <tr style=\"text-align: right;\">\n      <th></th>\n      <th>country</th>\n      <th>happiness_score</th>\n      <th>economy_gdp</th>\n      <th>life_expectancy</th>\n      <th>year</th>\n    </tr>\n  </thead>\n  <tbody>\n    <tr>\n      <th>0</th>\n      <td>Switzerland</td>\n      <td>7.587</td>\n      <td>1.39651</td>\n      <td>0.94143</td>\n      <td>2015</td>\n    </tr>\n    <tr>\n      <th>1</th>\n      <td>Iceland</td>\n      <td>7.561</td>\n      <td>1.30232</td>\n      <td>0.94784</td>\n      <td>2015</td>\n    </tr>\n    <tr>\n      <th>2</th>\n      <td>Denmark</td>\n      <td>7.527</td>\n      <td>1.32548</td>\n      <td>0.87464</td>\n      <td>2015</td>\n    </tr>\n    <tr>\n      <th>3</th>\n      <td>Norway</td>\n      <td>7.522</td>\n      <td>1.45900</td>\n      <td>0.88521</td>\n      <td>2015</td>\n    </tr>\n    <tr>\n      <th>4</th>\n      <td>Canada</td>\n      <td>7.427</td>\n      <td>1.32629</td>\n      <td>0.90563</td>\n      <td>2015</td>\n    </tr>\n  </tbody>\n</table>\n</div>",
      "text/plain": "       country  happiness_score  economy_gdp  life_expectancy  year\n0  Switzerland            7.587      1.39651          0.94143  2015\n1      Iceland            7.561      1.30232          0.94784  2015\n2      Denmark            7.527      1.32548          0.87464  2015\n3       Norway            7.522      1.45900          0.88521  2015\n4       Canada            7.427      1.32629          0.90563  2015"
     },
     "execution_count": 35,
     "metadata": {},
     "output_type": "execute_result"
    }
   ],
   "source": [
    "final_happy.head()"
   ]
  },
  {
   "cell_type": "code",
   "execution_count": 36,
   "metadata": {},
   "outputs": [],
   "source": [
    "final_happy.to_csv('final_happy.csv')"
   ]
  },
  {
   "cell_type": "code",
   "execution_count": 37,
   "metadata": {},
   "outputs": [
    {
     "data": {
      "text/html": "<div>\n<style scoped>\n    .dataframe tbody tr th:only-of-type {\n        vertical-align: middle;\n    }\n\n    .dataframe tbody tr th {\n        vertical-align: top;\n    }\n\n    .dataframe thead th {\n        text-align: right;\n    }\n</style>\n<table border=\"1\" class=\"dataframe\">\n  <thead>\n    <tr style=\"text-align: right;\">\n      <th></th>\n      <th>happiness_score</th>\n      <th>economy_gdp</th>\n      <th>life_expectancy</th>\n    </tr>\n    <tr>\n      <th>year</th>\n      <th></th>\n      <th></th>\n      <th></th>\n    </tr>\n  </thead>\n  <tbody>\n    <tr>\n      <th>2015</th>\n      <td>5.375734</td>\n      <td>0.846137</td>\n      <td>0.630259</td>\n    </tr>\n    <tr>\n      <th>2016</th>\n      <td>5.382185</td>\n      <td>0.953880</td>\n      <td>0.557619</td>\n    </tr>\n    <tr>\n      <th>2017</th>\n      <td>5.354019</td>\n      <td>0.984718</td>\n      <td>0.551341</td>\n    </tr>\n    <tr>\n      <th>2018</th>\n      <td>5.375917</td>\n      <td>0.891449</td>\n      <td>0.597346</td>\n    </tr>\n    <tr>\n      <th>2019</th>\n      <td>5.407096</td>\n      <td>0.905147</td>\n      <td>0.725244</td>\n    </tr>\n  </tbody>\n</table>\n</div>",
      "text/plain": "      happiness_score  economy_gdp  life_expectancy\nyear                                               \n2015         5.375734     0.846137         0.630259\n2016         5.382185     0.953880         0.557619\n2017         5.354019     0.984718         0.551341\n2018         5.375917     0.891449         0.597346\n2019         5.407096     0.905147         0.725244"
     },
     "execution_count": 37,
     "metadata": {},
     "output_type": "execute_result"
    }
   ],
   "source": [
    "annual_happy = final_happy.groupby('year').mean()\n",
    "annual_happy.head()"
   ]
  },
  {
   "cell_type": "code",
   "execution_count": 38,
   "metadata": {},
   "outputs": [
    {
     "data": {
      "text/html": "<div>\n<style scoped>\n    .dataframe tbody tr th:only-of-type {\n        vertical-align: middle;\n    }\n\n    .dataframe tbody tr th {\n        vertical-align: top;\n    }\n\n    .dataframe thead th {\n        text-align: right;\n    }\n</style>\n<table border=\"1\" class=\"dataframe\">\n  <thead>\n    <tr style=\"text-align: right;\">\n      <th></th>\n      <th>Country</th>\n      <th>Region</th>\n      <th>Hemisphere</th>\n      <th>HappinessScore</th>\n      <th>HDI</th>\n      <th>GDP_PerCapita</th>\n      <th>Beer_PerCapita</th>\n      <th>Spirit_PerCapita</th>\n      <th>Wine_PerCapita</th>\n    </tr>\n  </thead>\n  <tbody>\n    <tr>\n      <th>0</th>\n      <td>Denmark</td>\n      <td>Western Europe</td>\n      <td>north</td>\n      <td>7.526</td>\n      <td>928</td>\n      <td>53.579</td>\n      <td>224</td>\n      <td>81</td>\n      <td>278</td>\n    </tr>\n    <tr>\n      <th>1</th>\n      <td>Switzerland</td>\n      <td>Western Europe</td>\n      <td>north</td>\n      <td>7.509</td>\n      <td>943</td>\n      <td>79.866</td>\n      <td>185</td>\n      <td>100</td>\n      <td>280</td>\n    </tr>\n    <tr>\n      <th>2</th>\n      <td>Iceland</td>\n      <td>Western Europe</td>\n      <td>north</td>\n      <td>7.501</td>\n      <td>933</td>\n      <td>60.530</td>\n      <td>233</td>\n      <td>61</td>\n      <td>78</td>\n    </tr>\n    <tr>\n      <th>3</th>\n      <td>Norway</td>\n      <td>Western Europe</td>\n      <td>north</td>\n      <td>7.498</td>\n      <td>951</td>\n      <td>70.890</td>\n      <td>169</td>\n      <td>71</td>\n      <td>129</td>\n    </tr>\n    <tr>\n      <th>4</th>\n      <td>Finland</td>\n      <td>Western Europe</td>\n      <td>north</td>\n      <td>7.413</td>\n      <td>918</td>\n      <td>43.433</td>\n      <td>263</td>\n      <td>133</td>\n      <td>97</td>\n    </tr>\n  </tbody>\n</table>\n</div>",
      "text/plain": "       Country          Region Hemisphere  HappinessScore  HDI  GDP_PerCapita  \\\n0      Denmark  Western Europe      north           7.526  928         53.579   \n1  Switzerland  Western Europe      north           7.509  943         79.866   \n2      Iceland  Western Europe      north           7.501  933         60.530   \n3       Norway  Western Europe      north           7.498  951         70.890   \n4      Finland  Western Europe      north           7.413  918         43.433   \n\n   Beer_PerCapita  Spirit_PerCapita  Wine_PerCapita  \n0             224                81             278  \n1             185               100             280  \n2             233                61              78  \n3             169                71             129  \n4             263               133              97  "
     },
     "execution_count": 38,
     "metadata": {},
     "output_type": "execute_result"
    }
   ],
   "source": [
    "alcohol_cons = \"HappinessAlcoholConsumption.csv\"\n",
    "alcohol_df = pd.read_csv(alcohol_cons)\n",
    "alcohol_df.head()"
   ]
  },
  {
   "cell_type": "code",
   "execution_count": 39,
   "metadata": {},
   "outputs": [],
   "source": [
    "alcohol_df = alcohol_df.drop(columns=['Region', 'Hemisphere', 'HappinessScore', 'HDI', 'GDP_PerCapita'])"
   ]
  },
  {
   "cell_type": "code",
   "execution_count": 40,
   "metadata": {},
   "outputs": [
    {
     "data": {
      "text/html": "<div>\n<style scoped>\n    .dataframe tbody tr th:only-of-type {\n        vertical-align: middle;\n    }\n\n    .dataframe tbody tr th {\n        vertical-align: top;\n    }\n\n    .dataframe thead th {\n        text-align: right;\n    }\n</style>\n<table border=\"1\" class=\"dataframe\">\n  <thead>\n    <tr style=\"text-align: right;\">\n      <th></th>\n      <th>country</th>\n      <th>beer_percapita</th>\n      <th>spirit_percapita</th>\n      <th>wine_percapita</th>\n    </tr>\n  </thead>\n  <tbody>\n    <tr>\n      <th>0</th>\n      <td>Denmark</td>\n      <td>224</td>\n      <td>81</td>\n      <td>278</td>\n    </tr>\n    <tr>\n      <th>1</th>\n      <td>Switzerland</td>\n      <td>185</td>\n      <td>100</td>\n      <td>280</td>\n    </tr>\n    <tr>\n      <th>2</th>\n      <td>Iceland</td>\n      <td>233</td>\n      <td>61</td>\n      <td>78</td>\n    </tr>\n    <tr>\n      <th>3</th>\n      <td>Norway</td>\n      <td>169</td>\n      <td>71</td>\n      <td>129</td>\n    </tr>\n    <tr>\n      <th>4</th>\n      <td>Finland</td>\n      <td>263</td>\n      <td>133</td>\n      <td>97</td>\n    </tr>\n  </tbody>\n</table>\n</div>",
      "text/plain": "       country  beer_percapita  spirit_percapita  wine_percapita\n0      Denmark             224                81             278\n1  Switzerland             185               100             280\n2      Iceland             233                61              78\n3       Norway             169                71             129\n4      Finland             263               133              97"
     },
     "execution_count": 40,
     "metadata": {},
     "output_type": "execute_result"
    }
   ],
   "source": [
    "alcohol_df = alcohol_df.rename({'Country': 'country', 'Beer_PerCapita': 'beer_percapita', 'Spirit_PerCapita': 'spirit_percapita', 'Wine_PerCapita': 'wine_percapita'}, axis=1)\n",
    "alcohol_df.head()"
   ]
  },
  {
   "cell_type": "code",
   "execution_count": 41,
   "metadata": {},
   "outputs": [],
   "source": [
    "alcohol_df.to_csv('alcohol_df.csv') "
   ]
  },
  {
   "cell_type": "code",
   "execution_count": 42,
   "metadata": {},
   "outputs": [],
   "source": [
    "top_five = alcohol_df.head(5)"
   ]
  },
  {
   "cell_type": "code",
   "execution_count": 43,
   "metadata": {},
   "outputs": [
    {
     "data": {
      "text/html": "<div>\n<style scoped>\n    .dataframe tbody tr th:only-of-type {\n        vertical-align: middle;\n    }\n\n    .dataframe tbody tr th {\n        vertical-align: top;\n    }\n\n    .dataframe thead th {\n        text-align: right;\n    }\n</style>\n<table border=\"1\" class=\"dataframe\">\n  <thead>\n    <tr style=\"text-align: right;\">\n      <th></th>\n      <th>country</th>\n      <th>beer_percapita</th>\n      <th>spirit_percapita</th>\n      <th>wine_percapita</th>\n    </tr>\n  </thead>\n  <tbody>\n    <tr>\n      <th>0</th>\n      <td>Denmark</td>\n      <td>224</td>\n      <td>81</td>\n      <td>278</td>\n    </tr>\n    <tr>\n      <th>1</th>\n      <td>Switzerland</td>\n      <td>185</td>\n      <td>100</td>\n      <td>280</td>\n    </tr>\n    <tr>\n      <th>2</th>\n      <td>Iceland</td>\n      <td>233</td>\n      <td>61</td>\n      <td>78</td>\n    </tr>\n    <tr>\n      <th>3</th>\n      <td>Norway</td>\n      <td>169</td>\n      <td>71</td>\n      <td>129</td>\n    </tr>\n    <tr>\n      <th>4</th>\n      <td>Finland</td>\n      <td>263</td>\n      <td>133</td>\n      <td>97</td>\n    </tr>\n  </tbody>\n</table>\n</div>",
      "text/plain": "       country  beer_percapita  spirit_percapita  wine_percapita\n0      Denmark             224                81             278\n1  Switzerland             185               100             280\n2      Iceland             233                61              78\n3       Norway             169                71             129\n4      Finland             263               133              97"
     },
     "execution_count": 43,
     "metadata": {},
     "output_type": "execute_result"
    }
   ],
   "source": [
    "top_five"
   ]
  },
  {
   "cell_type": "code",
   "execution_count": 44,
   "metadata": {},
   "outputs": [
    {
     "data": {
      "text/html": "<div>\n<style scoped>\n    .dataframe tbody tr th:only-of-type {\n        vertical-align: middle;\n    }\n\n    .dataframe tbody tr th {\n        vertical-align: top;\n    }\n\n    .dataframe thead th {\n        text-align: right;\n    }\n</style>\n<table border=\"1\" class=\"dataframe\">\n  <thead>\n    <tr style=\"text-align: right;\">\n      <th></th>\n      <th>country</th>\n      <th>beer_percapita</th>\n      <th>spirit_percapita</th>\n      <th>wine_percapita</th>\n    </tr>\n  </thead>\n  <tbody>\n    <tr>\n      <th>117</th>\n      <td>Tanzania</td>\n      <td>36</td>\n      <td>6</td>\n      <td>1</td>\n    </tr>\n    <tr>\n      <th>118</th>\n      <td>Liberia</td>\n      <td>19</td>\n      <td>152</td>\n      <td>2</td>\n    </tr>\n    <tr>\n      <th>119</th>\n      <td>Benin</td>\n      <td>34</td>\n      <td>4</td>\n      <td>13</td>\n    </tr>\n    <tr>\n      <th>120</th>\n      <td>Togo</td>\n      <td>36</td>\n      <td>2</td>\n      <td>19</td>\n    </tr>\n    <tr>\n      <th>121</th>\n      <td>Syria</td>\n      <td>5</td>\n      <td>35</td>\n      <td>16</td>\n    </tr>\n  </tbody>\n</table>\n</div>",
      "text/plain": "      country  beer_percapita  spirit_percapita  wine_percapita\n117  Tanzania              36                 6               1\n118   Liberia              19               152               2\n119     Benin              34                 4              13\n120      Togo              36                 2              19\n121     Syria               5                35              16"
     },
     "execution_count": 44,
     "metadata": {},
     "output_type": "execute_result"
    }
   ],
   "source": [
    "bottom_five = alcohol_df.tail(5)\n",
    "bottom_five"
   ]
  },
  {
   "cell_type": "code",
   "execution_count": 45,
   "metadata": {},
   "outputs": [
    {
     "ename": "ModuleNotFoundError",
     "evalue": "No module named 'plotly'",
     "output_type": "error",
     "traceback": [
      "\u001b[0;31m---------------------------------------------------------------------------\u001b[0m",
      "\u001b[0;31mModuleNotFoundError\u001b[0m                       Traceback (most recent call last)",
      "\u001b[0;32m<ipython-input-45-2d2dc9f40d4d>\u001b[0m in \u001b[0;36m<module>\u001b[0;34m\u001b[0m\n\u001b[0;32m----> 1\u001b[0;31m \u001b[0;32mimport\u001b[0m \u001b[0mplotly\u001b[0m\u001b[0;34m.\u001b[0m\u001b[0mgraph_objects\u001b[0m \u001b[0;32mas\u001b[0m \u001b[0mgo\u001b[0m\u001b[0;34m\u001b[0m\u001b[0;34m\u001b[0m\u001b[0m\n\u001b[0m\u001b[1;32m      2\u001b[0m \u001b[0;34m\u001b[0m\u001b[0m\n\u001b[1;32m      3\u001b[0m fig = go.Figure(data=[\n\u001b[1;32m      4\u001b[0m     \u001b[0mgo\u001b[0m\u001b[0;34m.\u001b[0m\u001b[0mBar\u001b[0m\u001b[0;34m(\u001b[0m\u001b[0mname\u001b[0m\u001b[0;34m=\u001b[0m\u001b[0;34m'Beer'\u001b[0m\u001b[0;34m,\u001b[0m \u001b[0mx\u001b[0m\u001b[0;34m=\u001b[0m\u001b[0mtop_five\u001b[0m\u001b[0;34m[\u001b[0m\u001b[0;34m\"country\"\u001b[0m\u001b[0;34m]\u001b[0m\u001b[0;34m,\u001b[0m \u001b[0my\u001b[0m\u001b[0;34m=\u001b[0m\u001b[0mtop_five\u001b[0m\u001b[0;34m[\u001b[0m\u001b[0;34m\"beer_percapita\"\u001b[0m\u001b[0;34m]\u001b[0m\u001b[0;34m)\u001b[0m\u001b[0;34m,\u001b[0m\u001b[0;34m\u001b[0m\u001b[0;34m\u001b[0m\u001b[0m\n\u001b[1;32m      5\u001b[0m     \u001b[0mgo\u001b[0m\u001b[0;34m.\u001b[0m\u001b[0mBar\u001b[0m\u001b[0;34m(\u001b[0m\u001b[0mname\u001b[0m\u001b[0;34m=\u001b[0m\u001b[0;34m'Spirits'\u001b[0m\u001b[0;34m,\u001b[0m \u001b[0mx\u001b[0m\u001b[0;34m=\u001b[0m\u001b[0mtop_five\u001b[0m\u001b[0;34m[\u001b[0m\u001b[0;34m\"country\"\u001b[0m\u001b[0;34m]\u001b[0m\u001b[0;34m,\u001b[0m \u001b[0my\u001b[0m\u001b[0;34m=\u001b[0m\u001b[0mtop_five\u001b[0m\u001b[0;34m[\u001b[0m\u001b[0;34m\"spirit_percapita\"\u001b[0m\u001b[0;34m]\u001b[0m\u001b[0;34m)\u001b[0m\u001b[0;34m,\u001b[0m\u001b[0;34m\u001b[0m\u001b[0;34m\u001b[0m\u001b[0m\n",
      "\u001b[0;31mModuleNotFoundError\u001b[0m: No module named 'plotly'"
     ]
    }
   ],
   "source": [
    "import plotly.graph_objects as go\n",
    "\n",
    "fig = go.Figure(data=[\n",
    "    go.Bar(name='Beer', x=top_five[\"country\"], y=top_five[\"beer_percapita\"]),\n",
    "    go.Bar(name='Spirits', x=top_five[\"country\"], y=top_five[\"spirit_percapita\"]),\n",
    "    go.Bar(name='Wine', x=top_five[\"country\"], y=top_five[\"wine_percapita\"])\n",
    "])\n",
    "\n",
    "# Change the bar mode\n",
    "fig.update_layout(barmode='stack')\n",
    "fig.show()"
   ]
  },
  {
   "cell_type": "code",
   "execution_count": null,
   "metadata": {},
   "outputs": [],
   "source": [
    "import plotly.graph_objects as go\n",
    "\n",
    "fig = go.Figure(data=[\n",
    "    go.Bar(name='Beer', x=bottom_five[\"country\"], y=bottom_five[\"beer_percapita\"]),\n",
    "    go.Bar(name='Spirits', x=bottom_five[\"country\"], y=bottom_five[\"spirit_percapita\"]),\n",
    "    go.Bar(name='Wine', x=bottom_five[\"country\"], y=bottom_five[\"wine_percapita\"])\n",
    "])\n",
    "\n",
    "# Change the bar mode\n",
    "fig.update_layout(barmode='stack')\n",
    "fig.show()"
   ]
  },
  {
   "cell_type": "code",
   "execution_count": null,
   "metadata": {},
   "outputs": [],
   "source": [
    "final_happy.to_sql(name='Happiness', con=engine, if_exists='append', index=False)"
   ]
  },
  {
   "cell_type": "code",
   "execution_count": null,
   "metadata": {},
   "outputs": [],
   "source": [
    "pd.read_sql_query('select * from \"Happiness\"', con=engine).head()"
   ]
  },
  {
   "cell_type": "code",
   "execution_count": null,
   "metadata": {},
   "outputs": [],
   "source": [
    "alcohol_df.to_sql(name='Alcohol', con=engine, if_exists='append', index=False)"
   ]
  },
  {
   "cell_type": "code",
   "execution_count": null,
   "metadata": {},
   "outputs": [],
   "source": [
    "pd.read_sql_query('select * from \"Alcohol\" ', con=engine).head()"
   ]
  },
  {
   "cell_type": "code",
   "execution_count": null,
   "metadata": {},
   "outputs": [],
   "source": [
    "join_query = 'SELECT h.country, h.year, h.happiness_score, a.beer_percapita, a.spirit_percapita, a.wine_percapita FROM \"Happiness\" h JOIN \"Alcohol\" a ON (h.country = a.country);'\n",
    "\n",
    "\n",
    "join_df = pd.read_sql_query(join_query, con=engine)"
   ]
  },
  {
   "cell_type": "code",
   "execution_count": null,
   "metadata": {},
   "outputs": [],
   "source": [
    "join_df"
   ]
  },
  {
   "cell_type": "code",
   "execution_count": null,
   "metadata": {},
   "outputs": [],
   "source": [
    "join_df.to_csv(\"combined_sql2.csv\")"
   ]
  },
  {
   "cell_type": "code",
   "execution_count": 54,
   "metadata": {},
   "outputs": [
    {
     "ename": "ModuleNotFoundError",
     "evalue": "No module named 'plotly'",
     "output_type": "error",
     "traceback": [
      "\u001b[0;31m---------------------------------------------------------------------------\u001b[0m",
      "\u001b[0;31mModuleNotFoundError\u001b[0m                       Traceback (most recent call last)",
      "\u001b[0;32m<ipython-input-54-8bcb90e37719>\u001b[0m in \u001b[0;36m<module>\u001b[0;34m\u001b[0m\n\u001b[0;32m----> 1\u001b[0;31m \u001b[0;32mimport\u001b[0m \u001b[0mplotly\u001b[0m\u001b[0;34m.\u001b[0m\u001b[0mgraph_objects\u001b[0m \u001b[0;32mas\u001b[0m \u001b[0mgo\u001b[0m\u001b[0;34m\u001b[0m\u001b[0;34m\u001b[0m\u001b[0m\n\u001b[0m\u001b[1;32m      2\u001b[0m \u001b[0;34m\u001b[0m\u001b[0m\n\u001b[1;32m      3\u001b[0m fig = go.Figure(data=go.Scatter(x=join_df['happiness_score'],\n\u001b[1;32m      4\u001b[0m                                 \u001b[0my\u001b[0m\u001b[0;34m=\u001b[0m\u001b[0mjoin_df\u001b[0m\u001b[0;34m[\u001b[0m\u001b[0;34m'beer_percapita'\u001b[0m\u001b[0;34m]\u001b[0m\u001b[0;34m,\u001b[0m\u001b[0;34m\u001b[0m\u001b[0;34m\u001b[0m\u001b[0m\n\u001b[1;32m      5\u001b[0m                                 \u001b[0mmode\u001b[0m\u001b[0;34m=\u001b[0m\u001b[0;34m'markers'\u001b[0m\u001b[0;34m,\u001b[0m\u001b[0;34m\u001b[0m\u001b[0;34m\u001b[0m\u001b[0m\n",
      "\u001b[0;31mModuleNotFoundError\u001b[0m: No module named 'plotly'"
     ]
    }
   ],
   "source": [
    "import plotly.graph_objects as go\n",
    "\n",
    "fig = go.Figure(data=go.Scatter(x=join_df['happiness_score'],\n",
    "                                y=join_df['beer_percapita'],\n",
    "                                mode='markers',\n",
    "                                marker_color=join_df['happiness_score'],\n",
    "                                text=join_df['country'])) # hover text goes here\n",
    "\n",
    "fig.update_layout(title='Beer and Happiness')\n",
    "fig.show()"
   ]
  },
  {
   "cell_type": "code",
   "execution_count": null,
   "metadata": {},
   "outputs": [],
   "source": [
    "import plotly.graph_objects as go\n",
    "\n",
    "fig = go.Figure(data=go.Scatter(x=join_df['happiness_score'],\n",
    "                                y=join_df['spirit_percapita'],\n",
    "                                mode='markers',\n",
    "                                marker_color=join_df['happiness_score'],\n",
    "                                text=join_df['country'])) # hover text goes here\n",
    "\n",
    "fig.update_layout(title='Spirits and Happiness')\n",
    "fig.show()"
   ]
  },
  {
   "cell_type": "code",
   "execution_count": null,
   "metadata": {},
   "outputs": [],
   "source": [
    "import plotly.graph_objects as go\n",
    "\n",
    "fig = go.Figure(data=go.Scatter(x=join_df['happiness_score'],\n",
    "                                y=join_df['wine_percapita'],\n",
    "                                mode='markers',\n",
    "                                marker_color=join_df['happiness_score'],\n",
    "                                text=join_df['country'])) # hover text goes here\n",
    "\n",
    "fig.update_layout(title='Wine and Happiness')\n",
    "fig.show()"
   ]
  },
  {
   "cell_type": "code",
   "execution_count": null,
   "metadata": {},
   "outputs": [],
   "source": []
  }
 ],
 "metadata": {
  "kernelspec": {
   "display_name": "Python 3",
   "language": "python",
   "name": "python3"
  },
  "language_info": {
   "codemirror_mode": {
    "name": "ipython",
    "version": 3
   },
   "file_extension": ".py",
   "mimetype": "text/x-python",
   "name": "python",
   "nbconvert_exporter": "python",
   "pygments_lexer": "ipython3",
   "version": "3.8.0-final"
  }
 },
 "nbformat": 4,
 "nbformat_minor": 4
}